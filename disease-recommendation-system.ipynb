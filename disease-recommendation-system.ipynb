{
 "cells": [
  {
   "cell_type": "markdown",
   "id": "cbffc6fc",
   "metadata": {
    "papermill": {
     "duration": 0.00842,
     "end_time": "2023-06-18T07:42:34.611336",
     "exception": false,
     "start_time": "2023-06-18T07:42:34.602916",
     "status": "completed"
    },
    "tags": []
   },
   "source": [
    "# Overview\n",
    "\n",
    "This notebook implements Disease Recommendation System based on Symptoms for Medical Dataset using Sklearn.\n",
    "* Model Accuracy is 100%.\n",
    "* Model is Saved as pkl file.\n",
    "\n",
    "#### Highlights of this notebook:\n",
    "\n",
    "1. Loading Libraries.\n",
    "2. Applying One Hot Encoding Manually using Numpy and Pandas.\n",
    "3. Creaing Model.\n",
    "4. Testing Model Accuracy.\n",
    "5. Saving Model as pkl file.\n",
    "\n",
    "## <font size=4 color='blue'>If you find this notebook useful, leave an upvote, that motivates me to write more such notebooks.</font>"
   ]
  },
  {
   "cell_type": "markdown",
   "id": "5b795059",
   "metadata": {
    "papermill": {
     "duration": 0.006682,
     "end_time": "2023-06-18T07:42:34.625414",
     "exception": false,
     "start_time": "2023-06-18T07:42:34.618732",
     "status": "completed"
    },
    "tags": []
   },
   "source": [
    "## Loading Libraries and Dataset"
   ]
  },
  {
   "cell_type": "code",
   "execution_count": 18,
   "id": "9f402e86",
   "metadata": {
    "execution": {
     "iopub.execute_input": "2023-06-18T07:42:34.642220Z",
     "iopub.status.busy": "2023-06-18T07:42:34.641740Z",
     "iopub.status.idle": "2023-06-18T07:42:37.102752Z",
     "shell.execute_reply": "2023-06-18T07:42:37.101254Z"
    },
    "papermill": {
     "duration": 2.473727,
     "end_time": "2023-06-18T07:42:37.106683",
     "exception": false,
     "start_time": "2023-06-18T07:42:34.632956",
     "status": "completed"
    },
    "tags": []
   },
   "outputs": [],
   "source": [
    "import pandas as pd\n",
    "import numpy as np\n",
    "import seaborn as sns\n",
    "import matplotlib.pyplot as plt\n",
    "from sklearn.model_selection import train_test_split\n",
    "from sklearn.ensemble import RandomForestClassifier\n",
    "from sklearn.linear_model import LogisticRegression\n",
    "from sklearn.metrics import accuracy_score"
   ]
  },
  {
   "cell_type": "code",
   "execution_count": 19,
   "id": "6b6f82b2",
   "metadata": {
    "execution": {
     "iopub.execute_input": "2023-06-18T07:42:37.124861Z",
     "iopub.status.busy": "2023-06-18T07:42:37.124410Z",
     "iopub.status.idle": "2023-06-18T07:42:37.180267Z",
     "shell.execute_reply": "2023-06-18T07:42:37.178392Z"
    },
    "papermill": {
     "duration": 0.070544,
     "end_time": "2023-06-18T07:42:37.184631",
     "exception": false,
     "start_time": "2023-06-18T07:42:37.114087",
     "status": "completed"
    },
    "tags": []
   },
   "outputs": [],
   "source": [
    "data = pd.read_csv('csv/Original_Dataset.csv')"
   ]
  },
  {
   "cell_type": "code",
   "execution_count": 20,
   "id": "e12579ba",
   "metadata": {
    "execution": {
     "iopub.execute_input": "2023-06-18T07:42:37.202509Z",
     "iopub.status.busy": "2023-06-18T07:42:37.202066Z",
     "iopub.status.idle": "2023-06-18T07:42:37.251761Z",
     "shell.execute_reply": "2023-06-18T07:42:37.250661Z"
    },
    "papermill": {
     "duration": 0.063875,
     "end_time": "2023-06-18T07:42:37.255757",
     "exception": false,
     "start_time": "2023-06-18T07:42:37.191882",
     "status": "completed"
    },
    "tags": []
   },
   "outputs": [
    {
     "data": {
      "text/html": [
       "<div>\n",
       "<style scoped>\n",
       "    .dataframe tbody tr th:only-of-type {\n",
       "        vertical-align: middle;\n",
       "    }\n",
       "\n",
       "    .dataframe tbody tr th {\n",
       "        vertical-align: top;\n",
       "    }\n",
       "\n",
       "    .dataframe thead th {\n",
       "        text-align: right;\n",
       "    }\n",
       "</style>\n",
       "<table border=\"1\" class=\"dataframe\">\n",
       "  <thead>\n",
       "    <tr style=\"text-align: right;\">\n",
       "      <th></th>\n",
       "      <th>Disease</th>\n",
       "      <th>Description</th>\n",
       "    </tr>\n",
       "  </thead>\n",
       "  <tbody>\n",
       "    <tr>\n",
       "      <th>0</th>\n",
       "      <td>Drug Reaction</td>\n",
       "      <td>An adverse drug reaction (ADR) is an injury ca...</td>\n",
       "    </tr>\n",
       "    <tr>\n",
       "      <th>1</th>\n",
       "      <td>Malaria</td>\n",
       "      <td>An infectious disease caused by protozoan para...</td>\n",
       "    </tr>\n",
       "    <tr>\n",
       "      <th>2</th>\n",
       "      <td>Allergy</td>\n",
       "      <td>An allergy is an immune system response to a f...</td>\n",
       "    </tr>\n",
       "    <tr>\n",
       "      <th>3</th>\n",
       "      <td>Hypothyroidism</td>\n",
       "      <td>Hypothyroidism, also called underactive thyroi...</td>\n",
       "    </tr>\n",
       "    <tr>\n",
       "      <th>4</th>\n",
       "      <td>Psoriasis</td>\n",
       "      <td>Psoriasis is a common skin disorder that forms...</td>\n",
       "    </tr>\n",
       "  </tbody>\n",
       "</table>\n",
       "</div>"
      ],
      "text/plain": [
       "          Disease                                        Description\n",
       "0   Drug Reaction  An adverse drug reaction (ADR) is an injury ca...\n",
       "1         Malaria  An infectious disease caused by protozoan para...\n",
       "2         Allergy  An allergy is an immune system response to a f...\n",
       "3  Hypothyroidism  Hypothyroidism, also called underactive thyroi...\n",
       "4       Psoriasis  Psoriasis is a common skin disorder that forms..."
      ]
     },
     "execution_count": 20,
     "metadata": {},
     "output_type": "execute_result"
    }
   ],
   "source": [
    "data.head()"
   ]
  },
  {
   "cell_type": "markdown",
   "id": "9231338a",
   "metadata": {
    "papermill": {
     "duration": 0.008787,
     "end_time": "2023-06-18T07:42:37.276062",
     "exception": false,
     "start_time": "2023-06-18T07:42:37.267275",
     "status": "completed"
    },
    "tags": []
   },
   "source": [
    "## Data Preprocessing"
   ]
  },
  {
   "cell_type": "code",
   "execution_count": 21,
   "id": "d21ab58f",
   "metadata": {
    "_kg_hide-output": true,
    "execution": {
     "iopub.execute_input": "2023-06-18T07:42:37.298195Z",
     "iopub.status.busy": "2023-06-18T07:42:37.297186Z",
     "iopub.status.idle": "2023-06-18T07:42:37.760656Z",
     "shell.execute_reply": "2023-06-18T07:42:37.758611Z"
    },
    "papermill": {
     "duration": 0.47886,
     "end_time": "2023-06-18T07:42:37.764378",
     "exception": false,
     "start_time": "2023-06-18T07:42:37.285518",
     "status": "completed"
    },
    "tags": []
   },
   "outputs": [
    {
     "name": "stderr",
     "output_type": "stream",
     "text": [
      "/var/folders/4z/n_lw059s1vzcstpgw8gdtn2r0000gn/T/ipykernel_93513/716902651.py:7: SettingWithCopyWarning: \n",
      "A value is trying to be set on a copy of a slice from a DataFrame\n",
      "\n",
      "See the caveats in the documentation: https://pandas.pydata.org/pandas-docs/stable/user_guide/indexing.html#returning-a-view-versus-a-copy\n",
      "  data[\"Symptoms\"][i] = value[1:value.index(0)]\n"
     ]
    }
   ],
   "source": [
    "data[\"Symptoms\"] = 0\n",
    "\n",
    "for i in range(len(data)):\n",
    "    value = data.iloc[i].values.tolist()\n",
    "    \n",
    "    if 0 in value:\n",
    "        data[\"Symptoms\"][i] = value[1:value.index(0)]\n",
    "        \n",
    "    else:\n",
    "        data[\"Symptoms\"][i] = value[1:]\n",
    "    "
   ]
  },
  {
   "cell_type": "code",
   "execution_count": 5,
   "id": "ad8cf47d",
   "metadata": {
    "execution": {
     "iopub.execute_input": "2023-06-18T07:42:37.782674Z",
     "iopub.status.busy": "2023-06-18T07:42:37.781810Z",
     "iopub.status.idle": "2023-06-18T07:42:37.807892Z",
     "shell.execute_reply": "2023-06-18T07:42:37.806144Z"
    },
    "papermill": {
     "duration": 0.038766,
     "end_time": "2023-06-18T07:42:37.811438",
     "exception": false,
     "start_time": "2023-06-18T07:42:37.772672",
     "status": "completed"
    },
    "tags": []
   },
   "outputs": [
    {
     "data": {
      "text/html": [
       "<div>\n",
       "<style scoped>\n",
       "    .dataframe tbody tr th:only-of-type {\n",
       "        vertical-align: middle;\n",
       "    }\n",
       "\n",
       "    .dataframe tbody tr th {\n",
       "        vertical-align: top;\n",
       "    }\n",
       "\n",
       "    .dataframe thead th {\n",
       "        text-align: right;\n",
       "    }\n",
       "</style>\n",
       "<table border=\"1\" class=\"dataframe\">\n",
       "  <thead>\n",
       "    <tr style=\"text-align: right;\">\n",
       "      <th></th>\n",
       "      <th>Disease</th>\n",
       "      <th>Symptom_1</th>\n",
       "      <th>Symptom_2</th>\n",
       "      <th>Symptom_3</th>\n",
       "      <th>Symptom_4</th>\n",
       "      <th>Symptom_5</th>\n",
       "      <th>Symptom_6</th>\n",
       "      <th>Symptom_7</th>\n",
       "      <th>Symptom_8</th>\n",
       "      <th>Symptom_9</th>\n",
       "      <th>Symptom_10</th>\n",
       "      <th>Symptom_11</th>\n",
       "      <th>Symptom_12</th>\n",
       "      <th>Symptom_13</th>\n",
       "      <th>Symptom_14</th>\n",
       "      <th>Symptom_15</th>\n",
       "      <th>Symptom_16</th>\n",
       "      <th>Symptom_17</th>\n",
       "      <th>Symptoms</th>\n",
       "    </tr>\n",
       "  </thead>\n",
       "  <tbody>\n",
       "    <tr>\n",
       "      <th>0</th>\n",
       "      <td>Fungal infection</td>\n",
       "      <td>itching</td>\n",
       "      <td>skin_rash</td>\n",
       "      <td>nodal_skin_eruptions</td>\n",
       "      <td>dischromic _patches</td>\n",
       "      <td>NaN</td>\n",
       "      <td>NaN</td>\n",
       "      <td>NaN</td>\n",
       "      <td>NaN</td>\n",
       "      <td>NaN</td>\n",
       "      <td>NaN</td>\n",
       "      <td>NaN</td>\n",
       "      <td>NaN</td>\n",
       "      <td>NaN</td>\n",
       "      <td>NaN</td>\n",
       "      <td>NaN</td>\n",
       "      <td>NaN</td>\n",
       "      <td>NaN</td>\n",
       "      <td>[itching,  skin_rash,  nodal_skin_eruptions,  ...</td>\n",
       "    </tr>\n",
       "    <tr>\n",
       "      <th>1</th>\n",
       "      <td>Fungal infection</td>\n",
       "      <td>skin_rash</td>\n",
       "      <td>nodal_skin_eruptions</td>\n",
       "      <td>dischromic _patches</td>\n",
       "      <td>NaN</td>\n",
       "      <td>NaN</td>\n",
       "      <td>NaN</td>\n",
       "      <td>NaN</td>\n",
       "      <td>NaN</td>\n",
       "      <td>NaN</td>\n",
       "      <td>NaN</td>\n",
       "      <td>NaN</td>\n",
       "      <td>NaN</td>\n",
       "      <td>NaN</td>\n",
       "      <td>NaN</td>\n",
       "      <td>NaN</td>\n",
       "      <td>NaN</td>\n",
       "      <td>NaN</td>\n",
       "      <td>[ skin_rash,  nodal_skin_eruptions,  dischromi...</td>\n",
       "    </tr>\n",
       "    <tr>\n",
       "      <th>2</th>\n",
       "      <td>Fungal infection</td>\n",
       "      <td>itching</td>\n",
       "      <td>nodal_skin_eruptions</td>\n",
       "      <td>dischromic _patches</td>\n",
       "      <td>NaN</td>\n",
       "      <td>NaN</td>\n",
       "      <td>NaN</td>\n",
       "      <td>NaN</td>\n",
       "      <td>NaN</td>\n",
       "      <td>NaN</td>\n",
       "      <td>NaN</td>\n",
       "      <td>NaN</td>\n",
       "      <td>NaN</td>\n",
       "      <td>NaN</td>\n",
       "      <td>NaN</td>\n",
       "      <td>NaN</td>\n",
       "      <td>NaN</td>\n",
       "      <td>NaN</td>\n",
       "      <td>[itching,  nodal_skin_eruptions,  dischromic _...</td>\n",
       "    </tr>\n",
       "    <tr>\n",
       "      <th>3</th>\n",
       "      <td>Fungal infection</td>\n",
       "      <td>itching</td>\n",
       "      <td>skin_rash</td>\n",
       "      <td>dischromic _patches</td>\n",
       "      <td>NaN</td>\n",
       "      <td>NaN</td>\n",
       "      <td>NaN</td>\n",
       "      <td>NaN</td>\n",
       "      <td>NaN</td>\n",
       "      <td>NaN</td>\n",
       "      <td>NaN</td>\n",
       "      <td>NaN</td>\n",
       "      <td>NaN</td>\n",
       "      <td>NaN</td>\n",
       "      <td>NaN</td>\n",
       "      <td>NaN</td>\n",
       "      <td>NaN</td>\n",
       "      <td>NaN</td>\n",
       "      <td>[itching,  skin_rash,  dischromic _patches, na...</td>\n",
       "    </tr>\n",
       "    <tr>\n",
       "      <th>4</th>\n",
       "      <td>Fungal infection</td>\n",
       "      <td>itching</td>\n",
       "      <td>skin_rash</td>\n",
       "      <td>nodal_skin_eruptions</td>\n",
       "      <td>NaN</td>\n",
       "      <td>NaN</td>\n",
       "      <td>NaN</td>\n",
       "      <td>NaN</td>\n",
       "      <td>NaN</td>\n",
       "      <td>NaN</td>\n",
       "      <td>NaN</td>\n",
       "      <td>NaN</td>\n",
       "      <td>NaN</td>\n",
       "      <td>NaN</td>\n",
       "      <td>NaN</td>\n",
       "      <td>NaN</td>\n",
       "      <td>NaN</td>\n",
       "      <td>NaN</td>\n",
       "      <td>[itching,  skin_rash,  nodal_skin_eruptions, n...</td>\n",
       "    </tr>\n",
       "  </tbody>\n",
       "</table>\n",
       "</div>"
      ],
      "text/plain": [
       "            Disease   Symptom_1              Symptom_2              Symptom_3  \\\n",
       "0  Fungal infection     itching              skin_rash   nodal_skin_eruptions   \n",
       "1  Fungal infection   skin_rash   nodal_skin_eruptions    dischromic _patches   \n",
       "2  Fungal infection     itching   nodal_skin_eruptions    dischromic _patches   \n",
       "3  Fungal infection     itching              skin_rash    dischromic _patches   \n",
       "4  Fungal infection     itching              skin_rash   nodal_skin_eruptions   \n",
       "\n",
       "              Symptom_4 Symptom_5 Symptom_6 Symptom_7 Symptom_8 Symptom_9  \\\n",
       "0   dischromic _patches       NaN       NaN       NaN       NaN       NaN   \n",
       "1                   NaN       NaN       NaN       NaN       NaN       NaN   \n",
       "2                   NaN       NaN       NaN       NaN       NaN       NaN   \n",
       "3                   NaN       NaN       NaN       NaN       NaN       NaN   \n",
       "4                   NaN       NaN       NaN       NaN       NaN       NaN   \n",
       "\n",
       "  Symptom_10 Symptom_11 Symptom_12 Symptom_13 Symptom_14 Symptom_15  \\\n",
       "0        NaN        NaN        NaN        NaN        NaN        NaN   \n",
       "1        NaN        NaN        NaN        NaN        NaN        NaN   \n",
       "2        NaN        NaN        NaN        NaN        NaN        NaN   \n",
       "3        NaN        NaN        NaN        NaN        NaN        NaN   \n",
       "4        NaN        NaN        NaN        NaN        NaN        NaN   \n",
       "\n",
       "  Symptom_16 Symptom_17                                           Symptoms  \n",
       "0        NaN        NaN  [itching,  skin_rash,  nodal_skin_eruptions,  ...  \n",
       "1        NaN        NaN  [ skin_rash,  nodal_skin_eruptions,  dischromi...  \n",
       "2        NaN        NaN  [itching,  nodal_skin_eruptions,  dischromic _...  \n",
       "3        NaN        NaN  [itching,  skin_rash,  dischromic _patches, na...  \n",
       "4        NaN        NaN  [itching,  skin_rash,  nodal_skin_eruptions, n...  "
      ]
     },
     "execution_count": 5,
     "metadata": {},
     "output_type": "execute_result"
    }
   ],
   "source": [
    "data.head()"
   ]
  },
  {
   "cell_type": "code",
   "execution_count": 6,
   "id": "3f6eca3f",
   "metadata": {
    "execution": {
     "iopub.execute_input": "2023-06-18T07:42:37.829725Z",
     "iopub.status.busy": "2023-06-18T07:42:37.829231Z",
     "iopub.status.idle": "2023-06-18T07:42:37.859623Z",
     "shell.execute_reply": "2023-06-18T07:42:37.857713Z"
    },
    "papermill": {
     "duration": 0.042942,
     "end_time": "2023-06-18T07:42:37.862601",
     "exception": false,
     "start_time": "2023-06-18T07:42:37.819659",
     "status": "completed"
    },
    "tags": []
   },
   "outputs": [
    {
     "name": "stdout",
     "output_type": "stream",
     "text": [
      "131\n"
     ]
    }
   ],
   "source": [
    "column_values = data[['Symptom_1', 'Symptom_2', 'Symptom_3', 'Symptom_4',\n",
    "       'Symptom_5', 'Symptom_6', 'Symptom_7', 'Symptom_8', 'Symptom_9',\n",
    "       'Symptom_10', 'Symptom_11', 'Symptom_12', 'Symptom_13', 'Symptom_14',\n",
    "       'Symptom_15', 'Symptom_16', 'Symptom_17']].values.ravel()\n",
    "\n",
    "symps = pd.unique(column_values).tolist()\n",
    "symps = [i for i in symps if str(i) != \"nan\"]\n",
    "\n",
    "print(len(symps))"
   ]
  },
  {
   "cell_type": "code",
   "execution_count": 7,
   "id": "25a31e1f",
   "metadata": {
    "execution": {
     "iopub.execute_input": "2023-06-18T07:42:37.882232Z",
     "iopub.status.busy": "2023-06-18T07:42:37.881460Z",
     "iopub.status.idle": "2023-06-18T07:42:37.910082Z",
     "shell.execute_reply": "2023-06-18T07:42:37.908717Z"
    },
    "papermill": {
     "duration": 0.042292,
     "end_time": "2023-06-18T07:42:37.913136",
     "exception": false,
     "start_time": "2023-06-18T07:42:37.870844",
     "status": "completed"
    },
    "tags": []
   },
   "outputs": [],
   "source": [
    "new_data = symptoms = pd.DataFrame(columns = symps ,index = data.index)"
   ]
  },
  {
   "cell_type": "code",
   "execution_count": 8,
   "id": "ab02a646",
   "metadata": {
    "execution": {
     "iopub.execute_input": "2023-06-18T07:42:37.931668Z",
     "iopub.status.busy": "2023-06-18T07:42:37.930981Z",
     "iopub.status.idle": "2023-06-18T07:42:37.938009Z",
     "shell.execute_reply": "2023-06-18T07:42:37.936707Z"
    },
    "papermill": {
     "duration": 0.019372,
     "end_time": "2023-06-18T07:42:37.940701",
     "exception": false,
     "start_time": "2023-06-18T07:42:37.921329",
     "status": "completed"
    },
    "tags": []
   },
   "outputs": [],
   "source": [
    "symptoms[\"Symptoms\"] = data[\"Symptoms\"]"
   ]
  },
  {
   "cell_type": "code",
   "execution_count": 9,
   "id": "356973c7",
   "metadata": {
    "execution": {
     "iopub.execute_input": "2023-06-18T07:42:37.960193Z",
     "iopub.status.busy": "2023-06-18T07:42:37.959336Z",
     "iopub.status.idle": "2023-06-18T07:42:53.310840Z",
     "shell.execute_reply": "2023-06-18T07:42:53.309287Z"
    },
    "papermill": {
     "duration": 15.365076,
     "end_time": "2023-06-18T07:42:53.314134",
     "exception": false,
     "start_time": "2023-06-18T07:42:37.949058",
     "status": "completed"
    },
    "tags": []
   },
   "outputs": [],
   "source": [
    "for i in symps:\n",
    "    symptoms[i] = symptoms.apply(lambda x:1 if i in x.Symptoms else 0, axis=1)"
   ]
  },
  {
   "cell_type": "code",
   "execution_count": 10,
   "id": "e0352656",
   "metadata": {
    "execution": {
     "iopub.execute_input": "2023-06-18T07:42:53.333627Z",
     "iopub.status.busy": "2023-06-18T07:42:53.332930Z",
     "iopub.status.idle": "2023-06-18T07:42:53.344277Z",
     "shell.execute_reply": "2023-06-18T07:42:53.342818Z"
    },
    "papermill": {
     "duration": 0.024642,
     "end_time": "2023-06-18T07:42:53.347617",
     "exception": false,
     "start_time": "2023-06-18T07:42:53.322975",
     "status": "completed"
    },
    "tags": []
   },
   "outputs": [],
   "source": [
    "symptoms[\"Disease\"] = data[\"Disease\"]\n",
    "symptoms = symptoms.drop(\"Symptoms\",axis=1)"
   ]
  },
  {
   "cell_type": "code",
   "execution_count": 11,
   "id": "14468453",
   "metadata": {
    "execution": {
     "iopub.execute_input": "2023-06-18T07:42:53.366448Z",
     "iopub.status.busy": "2023-06-18T07:42:53.366017Z",
     "iopub.status.idle": "2023-06-18T07:42:53.390535Z",
     "shell.execute_reply": "2023-06-18T07:42:53.389210Z"
    },
    "papermill": {
     "duration": 0.036843,
     "end_time": "2023-06-18T07:42:53.393250",
     "exception": false,
     "start_time": "2023-06-18T07:42:53.356407",
     "status": "completed"
    },
    "tags": []
   },
   "outputs": [
    {
     "data": {
      "text/html": [
       "<div>\n",
       "<style scoped>\n",
       "    .dataframe tbody tr th:only-of-type {\n",
       "        vertical-align: middle;\n",
       "    }\n",
       "\n",
       "    .dataframe tbody tr th {\n",
       "        vertical-align: top;\n",
       "    }\n",
       "\n",
       "    .dataframe thead th {\n",
       "        text-align: right;\n",
       "    }\n",
       "</style>\n",
       "<table border=\"1\" class=\"dataframe\">\n",
       "  <thead>\n",
       "    <tr style=\"text-align: right;\">\n",
       "      <th></th>\n",
       "      <th>itching</th>\n",
       "      <th>skin_rash</th>\n",
       "      <th>nodal_skin_eruptions</th>\n",
       "      <th>dischromic _patches</th>\n",
       "      <th>continuous_sneezing</th>\n",
       "      <th>shivering</th>\n",
       "      <th>chills</th>\n",
       "      <th>watering_from_eyes</th>\n",
       "      <th>stomach_pain</th>\n",
       "      <th>acidity</th>\n",
       "      <th>...</th>\n",
       "      <th>foul_smell_of urine</th>\n",
       "      <th>continuous_feel_of_urine</th>\n",
       "      <th>skin_peeling</th>\n",
       "      <th>silver_like_dusting</th>\n",
       "      <th>small_dents_in_nails</th>\n",
       "      <th>inflammatory_nails</th>\n",
       "      <th>blister</th>\n",
       "      <th>red_sore_around_nose</th>\n",
       "      <th>yellow_crust_ooze</th>\n",
       "      <th>Disease</th>\n",
       "    </tr>\n",
       "  </thead>\n",
       "  <tbody>\n",
       "    <tr>\n",
       "      <th>0</th>\n",
       "      <td>1</td>\n",
       "      <td>1</td>\n",
       "      <td>1</td>\n",
       "      <td>1</td>\n",
       "      <td>0</td>\n",
       "      <td>0</td>\n",
       "      <td>0</td>\n",
       "      <td>0</td>\n",
       "      <td>0</td>\n",
       "      <td>0</td>\n",
       "      <td>...</td>\n",
       "      <td>0</td>\n",
       "      <td>0</td>\n",
       "      <td>0</td>\n",
       "      <td>0</td>\n",
       "      <td>0</td>\n",
       "      <td>0</td>\n",
       "      <td>0</td>\n",
       "      <td>0</td>\n",
       "      <td>0</td>\n",
       "      <td>Fungal infection</td>\n",
       "    </tr>\n",
       "    <tr>\n",
       "      <th>1</th>\n",
       "      <td>0</td>\n",
       "      <td>1</td>\n",
       "      <td>1</td>\n",
       "      <td>1</td>\n",
       "      <td>0</td>\n",
       "      <td>0</td>\n",
       "      <td>0</td>\n",
       "      <td>0</td>\n",
       "      <td>0</td>\n",
       "      <td>0</td>\n",
       "      <td>...</td>\n",
       "      <td>0</td>\n",
       "      <td>0</td>\n",
       "      <td>0</td>\n",
       "      <td>0</td>\n",
       "      <td>0</td>\n",
       "      <td>0</td>\n",
       "      <td>0</td>\n",
       "      <td>0</td>\n",
       "      <td>0</td>\n",
       "      <td>Fungal infection</td>\n",
       "    </tr>\n",
       "    <tr>\n",
       "      <th>2</th>\n",
       "      <td>1</td>\n",
       "      <td>0</td>\n",
       "      <td>1</td>\n",
       "      <td>1</td>\n",
       "      <td>0</td>\n",
       "      <td>0</td>\n",
       "      <td>0</td>\n",
       "      <td>0</td>\n",
       "      <td>0</td>\n",
       "      <td>0</td>\n",
       "      <td>...</td>\n",
       "      <td>0</td>\n",
       "      <td>0</td>\n",
       "      <td>0</td>\n",
       "      <td>0</td>\n",
       "      <td>0</td>\n",
       "      <td>0</td>\n",
       "      <td>0</td>\n",
       "      <td>0</td>\n",
       "      <td>0</td>\n",
       "      <td>Fungal infection</td>\n",
       "    </tr>\n",
       "    <tr>\n",
       "      <th>3</th>\n",
       "      <td>1</td>\n",
       "      <td>1</td>\n",
       "      <td>0</td>\n",
       "      <td>1</td>\n",
       "      <td>0</td>\n",
       "      <td>0</td>\n",
       "      <td>0</td>\n",
       "      <td>0</td>\n",
       "      <td>0</td>\n",
       "      <td>0</td>\n",
       "      <td>...</td>\n",
       "      <td>0</td>\n",
       "      <td>0</td>\n",
       "      <td>0</td>\n",
       "      <td>0</td>\n",
       "      <td>0</td>\n",
       "      <td>0</td>\n",
       "      <td>0</td>\n",
       "      <td>0</td>\n",
       "      <td>0</td>\n",
       "      <td>Fungal infection</td>\n",
       "    </tr>\n",
       "    <tr>\n",
       "      <th>4</th>\n",
       "      <td>1</td>\n",
       "      <td>1</td>\n",
       "      <td>1</td>\n",
       "      <td>0</td>\n",
       "      <td>0</td>\n",
       "      <td>0</td>\n",
       "      <td>0</td>\n",
       "      <td>0</td>\n",
       "      <td>0</td>\n",
       "      <td>0</td>\n",
       "      <td>...</td>\n",
       "      <td>0</td>\n",
       "      <td>0</td>\n",
       "      <td>0</td>\n",
       "      <td>0</td>\n",
       "      <td>0</td>\n",
       "      <td>0</td>\n",
       "      <td>0</td>\n",
       "      <td>0</td>\n",
       "      <td>0</td>\n",
       "      <td>Fungal infection</td>\n",
       "    </tr>\n",
       "  </tbody>\n",
       "</table>\n",
       "<p>5 rows × 132 columns</p>\n",
       "</div>"
      ],
      "text/plain": [
       "   itching   skin_rash   nodal_skin_eruptions   dischromic _patches  \\\n",
       "0        1           1                      1                     1   \n",
       "1        0           1                      1                     1   \n",
       "2        1           0                      1                     1   \n",
       "3        1           1                      0                     1   \n",
       "4        1           1                      1                     0   \n",
       "\n",
       "    continuous_sneezing   shivering   chills   watering_from_eyes  \\\n",
       "0                     0           0        0                    0   \n",
       "1                     0           0        0                    0   \n",
       "2                     0           0        0                    0   \n",
       "3                     0           0        0                    0   \n",
       "4                     0           0        0                    0   \n",
       "\n",
       "    stomach_pain   acidity  ...   foul_smell_of urine  \\\n",
       "0              0         0  ...                     0   \n",
       "1              0         0  ...                     0   \n",
       "2              0         0  ...                     0   \n",
       "3              0         0  ...                     0   \n",
       "4              0         0  ...                     0   \n",
       "\n",
       "    continuous_feel_of_urine   skin_peeling   silver_like_dusting  \\\n",
       "0                          0              0                     0   \n",
       "1                          0              0                     0   \n",
       "2                          0              0                     0   \n",
       "3                          0              0                     0   \n",
       "4                          0              0                     0   \n",
       "\n",
       "    small_dents_in_nails   inflammatory_nails   blister  \\\n",
       "0                      0                    0         0   \n",
       "1                      0                    0         0   \n",
       "2                      0                    0         0   \n",
       "3                      0                    0         0   \n",
       "4                      0                    0         0   \n",
       "\n",
       "    red_sore_around_nose   yellow_crust_ooze           Disease  \n",
       "0                      0                   0  Fungal infection  \n",
       "1                      0                   0  Fungal infection  \n",
       "2                      0                   0  Fungal infection  \n",
       "3                      0                   0  Fungal infection  \n",
       "4                      0                   0  Fungal infection  \n",
       "\n",
       "[5 rows x 132 columns]"
      ]
     },
     "execution_count": 11,
     "metadata": {},
     "output_type": "execute_result"
    }
   ],
   "source": [
    "symptoms.head()"
   ]
  },
  {
   "cell_type": "markdown",
   "id": "a62f8f15",
   "metadata": {
    "papermill": {
     "duration": 0.008627,
     "end_time": "2023-06-18T07:42:53.411207",
     "exception": false,
     "start_time": "2023-06-18T07:42:53.402580",
     "status": "completed"
    },
    "tags": []
   },
   "source": [
    "## Training and Testing Splitting"
   ]
  },
  {
   "cell_type": "code",
   "execution_count": 12,
   "id": "8f8aa87e",
   "metadata": {
    "execution": {
     "iopub.execute_input": "2023-06-18T07:42:53.432873Z",
     "iopub.status.busy": "2023-06-18T07:42:53.432444Z",
     "iopub.status.idle": "2023-06-18T07:42:53.441165Z",
     "shell.execute_reply": "2023-06-18T07:42:53.440076Z"
    },
    "papermill": {
     "duration": 0.022045,
     "end_time": "2023-06-18T07:42:53.443748",
     "exception": false,
     "start_time": "2023-06-18T07:42:53.421703",
     "status": "completed"
    },
    "tags": []
   },
   "outputs": [],
   "source": [
    "x = symptoms.drop('Disease', axis = 1)\n",
    "y = symptoms.Disease"
   ]
  },
  {
   "cell_type": "code",
   "execution_count": 13,
   "id": "8caea3f7",
   "metadata": {
    "execution": {
     "iopub.execute_input": "2023-06-18T07:42:53.464503Z",
     "iopub.status.busy": "2023-06-18T07:42:53.463477Z",
     "iopub.status.idle": "2023-06-18T07:42:53.479975Z",
     "shell.execute_reply": "2023-06-18T07:42:53.479013Z"
    },
    "papermill": {
     "duration": 0.030126,
     "end_time": "2023-06-18T07:42:53.482774",
     "exception": false,
     "start_time": "2023-06-18T07:42:53.452648",
     "status": "completed"
    },
    "tags": []
   },
   "outputs": [],
   "source": [
    "x_train, x_test, y_train , y_test = train_test_split(x ,y, random_state = 50)"
   ]
  },
  {
   "cell_type": "markdown",
   "id": "f9f8fa3f",
   "metadata": {
    "papermill": {
     "duration": 0.008474,
     "end_time": "2023-06-18T07:42:53.499899",
     "exception": false,
     "start_time": "2023-06-18T07:42:53.491425",
     "status": "completed"
    },
    "tags": []
   },
   "source": [
    "## Creating Model and Evaluating it"
   ]
  },
  {
   "cell_type": "code",
   "execution_count": 14,
   "id": "708647e0",
   "metadata": {
    "execution": {
     "iopub.execute_input": "2023-06-18T07:42:53.520416Z",
     "iopub.status.busy": "2023-06-18T07:42:53.519701Z",
     "iopub.status.idle": "2023-06-18T07:42:54.976924Z",
     "shell.execute_reply": "2023-06-18T07:42:54.975718Z"
    },
    "papermill": {
     "duration": 1.470886,
     "end_time": "2023-06-18T07:42:54.979505",
     "exception": false,
     "start_time": "2023-06-18T07:42:53.508619",
     "status": "completed"
    },
    "tags": []
   },
   "outputs": [
    {
     "data": {
      "text/plain": [
       "1.0"
      ]
     },
     "execution_count": 14,
     "metadata": {},
     "output_type": "execute_result"
    }
   ],
   "source": [
    "model = RandomForestClassifier(n_estimators=200)\n",
    "model.fit(x_train, y_train)\n",
    "predictions = model.predict(x_test)\n",
    "accuracy_score(y_test, predictions)"
   ]
  },
  {
   "cell_type": "code",
   "execution_count": 15,
   "id": "d8679778",
   "metadata": {
    "execution": {
     "iopub.execute_input": "2023-06-18T07:42:55.000431Z",
     "iopub.status.busy": "2023-06-18T07:42:54.999678Z",
     "iopub.status.idle": "2023-06-18T07:42:55.804023Z",
     "shell.execute_reply": "2023-06-18T07:42:55.802808Z"
    },
    "papermill": {
     "duration": 0.820167,
     "end_time": "2023-06-18T07:42:55.808279",
     "exception": false,
     "start_time": "2023-06-18T07:42:54.988112",
     "status": "completed"
    },
    "tags": []
   },
   "outputs": [
    {
     "data": {
      "text/plain": [
       "1.0"
      ]
     },
     "execution_count": 15,
     "metadata": {},
     "output_type": "execute_result"
    }
   ],
   "source": [
    "model = LogisticRegression(max_iter = 1000)\n",
    "model.fit(x_train, y_train)\n",
    "predictions = model.predict(x_test)\n",
    "accuracy_score(y_test, predictions)"
   ]
  },
  {
   "cell_type": "code",
   "execution_count": 16,
   "id": "8cccd1dd",
   "metadata": {
    "execution": {
     "iopub.execute_input": "2023-06-18T07:42:55.848834Z",
     "iopub.status.busy": "2023-06-18T07:42:55.848129Z",
     "iopub.status.idle": "2023-06-18T07:42:55.857244Z",
     "shell.execute_reply": "2023-06-18T07:42:55.856032Z"
    },
    "papermill": {
     "duration": 0.033829,
     "end_time": "2023-06-18T07:42:55.861038",
     "exception": false,
     "start_time": "2023-06-18T07:42:55.827209",
     "status": "completed"
    },
    "tags": []
   },
   "outputs": [],
   "source": [
    "import pickle\n",
    "\n",
    "pickle.dump(model, open('Model.pkl', 'wb'))"
   ]
  },
  {
   "cell_type": "markdown",
   "id": "62f91717",
   "metadata": {
    "papermill": {
     "duration": 0.019578,
     "end_time": "2023-06-18T07:42:55.899018",
     "exception": false,
     "start_time": "2023-06-18T07:42:55.879440",
     "status": "completed"
    },
    "tags": []
   },
   "source": [
    "## <font size=4 color='blue'>If you find this notebook useful, leave an upvote, that motivates me to write more such notebooks.</font>"
   ]
  }
 ],
 "metadata": {
  "kernelspec": {
   "display_name": "Python 3",
   "language": "python",
   "name": "python3"
  },
  "language_info": {
   "codemirror_mode": {
    "name": "ipython",
    "version": 3
   },
   "file_extension": ".py",
   "mimetype": "text/x-python",
   "name": "python",
   "nbconvert_exporter": "python",
   "pygments_lexer": "ipython3",
   "version": "3.10.10"
  },
  "papermill": {
   "default_parameters": {},
   "duration": 37.386752,
   "end_time": "2023-06-18T07:42:57.139973",
   "environment_variables": {},
   "exception": null,
   "input_path": "__notebook__.ipynb",
   "output_path": "__notebook__.ipynb",
   "parameters": {},
   "start_time": "2023-06-18T07:42:19.753221",
   "version": "2.4.0"
  }
 },
 "nbformat": 4,
 "nbformat_minor": 5
}
